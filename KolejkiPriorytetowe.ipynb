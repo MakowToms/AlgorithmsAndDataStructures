{
 "cells": [
  {
   "cell_type": "markdown",
   "metadata": {},
   "source": [
    "# Kolejki priorytetowe\n",
    "## Listy nieuporządkowane\n",
    "Programowanie leniwe\n",
    "### Operacje\n",
    "- insert (dodawanie nowego elementu)\n",
    "- max (pobieranie maksymalnego elementu)\n",
    "- deleteMax (pobieranie i usuwanie maksymalnego elementu)"
   ]
  },
  {
   "cell_type": "code",
   "execution_count": 18,
   "metadata": {},
   "outputs": [],
   "source": [
    "import math\n",
    "class UnorderedList:\n",
    "    '''\n",
    "    Nowe elementy dodajemy na początku\n",
    "    Podczas szukania największego elementu przechodzimy całą listę\n",
    "    Usuwając element przepisujemy wskaźnik na następny z poprzednika na następnik największego\n",
    "    '''\n",
    "    class Node:\n",
    "        def __init__(self,val,prior,foll):\n",
    "            self.value = val\n",
    "            self.priority = prior\n",
    "            self.following = foll\n",
    "        \n",
    "    def __init__(self):\n",
    "        self.head = None\n",
    "        \n",
    "    def isEmpty(self):\n",
    "        if self.head == None:\n",
    "            return True\n",
    "    \n",
    "    def insert(self,val,prior):\n",
    "        if self.isEmpty():\n",
    "            self.head = UnorderedList.Node(val,prior,None)\n",
    "        else:\n",
    "            self.head = UnorderedList.Node(val,prior,self.head)\n",
    "    \n",
    "    def maxP(self):\n",
    "        if self.isEmpty():\n",
    "            return None\n",
    "        maxPrior = -math.inf\n",
    "        maxElem = None\n",
    "        cur = self.head\n",
    "        while(cur.following != None):\n",
    "            if cur.priority > maxPrior:\n",
    "                maxPrior = cur.priority\n",
    "                maxElem = cur\n",
    "            cur = cur.following\n",
    "        if cur.priority > maxPrior:\n",
    "            maxPrior = cur.priority\n",
    "            maxElem = cur\n",
    "        return maxElem\n",
    "    \n",
    "    def deleteMax(self):\n",
    "        if self.isEmpty():\n",
    "            return None\n",
    "        maxPrior = -math.inf\n",
    "        maxElem = None\n",
    "        prevMaxElem = None\n",
    "        cur = self.head\n",
    "        if cur.priority > maxPrior:\n",
    "            maxPrior = cur.priority\n",
    "            maxElem = cur\n",
    "        while(cur.following != None):\n",
    "            if cur.following.priority > maxPrior:\n",
    "                maxPrior = cur.following.priority\n",
    "                maxElem = cur.following\n",
    "                prevMaxElem = cur\n",
    "            cur = cur.following\n",
    "        if prevMaxElem == None:\n",
    "            self.head = maxElem.following\n",
    "        else:\n",
    "            prevMaxElem.following = maxElem.following\n",
    "        return maxElem\n",
    "        "
   ]
  },
  {
   "cell_type": "code",
   "execution_count": 24,
   "metadata": {},
   "outputs": [
    {
     "name": "stdout",
     "output_type": "stream",
     "text": [
      "8 19\n",
      "2 18\n",
      "5 11\n",
      "9 9\n",
      "3 8\n",
      "0 7\n",
      "4 4\n",
      "7 3\n",
      "6 3\n",
      "1 3\n",
      "None\n"
     ]
    }
   ],
   "source": [
    "import random\n",
    "unorderedList = UnorderedList()\n",
    "for i in range(10):\n",
    "    unorderedList.insert(i,random.randint(1,20))\n",
    "for i in range(11):\n",
    "    elem = unorderedList.deleteMax()\n",
    "    if elem == None:\n",
    "        print(elem)\n",
    "    else:\n",
    "        print(elem.value, elem.priority)"
   ]
  },
  {
   "cell_type": "markdown",
   "metadata": {},
   "source": [
    "## Listy uporządkowane\n",
    "Progarmowanie nadgorliwe\n",
    "### Operacje (takie same):\n",
    "- insert (dodawanie nowego elementu)\n",
    "- max (pobieranie maksymalnego elementu)\n",
    "- deleteMax (pobieranie i usuwanie maksymalnego elementu)"
   ]
  },
  {
   "cell_type": "code",
   "execution_count": 29,
   "metadata": {},
   "outputs": [],
   "source": [
    "class OrderedList:\n",
    "    \n",
    "    class Node:\n",
    "        def __init__(self,val,prior,foll):\n",
    "            self.value = val\n",
    "            self.priority = prior\n",
    "            self.following = foll\n",
    "    \n",
    "    def __init__(self):\n",
    "        self.head = None\n",
    "        \n",
    "    def isEmpty(self):\n",
    "        if self.head == None:\n",
    "            return True\n",
    "        \n",
    "    def insert(self,val,prior):\n",
    "        if self.isEmpty():\n",
    "            self.head = OrderedList.Node(val,prior,None)\n",
    "        else:\n",
    "            if self.head.priority<prior:\n",
    "                self.head = OrderedList.Node(val,prior,self.head)\n",
    "            else:\n",
    "                cur = self.head\n",
    "                while(cur.following != None and cur.priority>prior):\n",
    "                    cur = cur.following\n",
    "                cur.following = OrderedList.Node(val,prior,cur.following)\n",
    "    \n",
    "    def maxP(self):\n",
    "        #this if is not needed\n",
    "        if self.isEmpty():\n",
    "            return None\n",
    "        return self.head\n",
    "    \n",
    "    def deleteMax(self):\n",
    "        if self.isEmpty():\n",
    "            return None\n",
    "        to_ret = self.head\n",
    "        self.head = self.head.following\n",
    "        return to_ret"
   ]
  },
  {
   "cell_type": "code",
   "execution_count": 30,
   "metadata": {},
   "outputs": [
    {
     "name": "stdout",
     "output_type": "stream",
     "text": [
      "7 18\n",
      "5 17\n",
      "3 12\n",
      "9 12\n",
      "2 11\n",
      "1 10\n",
      "0 8\n",
      "4 7\n",
      "6 6\n",
      "8 3\n",
      "None\n"
     ]
    }
   ],
   "source": [
    "orderedList = OrderedList()\n",
    "for i in range(10):\n",
    "    orderedList.insert(i,random.randint(1,20))\n",
    "for i in range(11):\n",
    "    elem = orderedList.deleteMax()\n",
    "    if elem == None:\n",
    "        print(elem)\n",
    "    else:\n",
    "        print(elem.value, elem.priority)"
   ]
  },
  {
   "cell_type": "code",
   "execution_count": null,
   "metadata": {},
   "outputs": [],
   "source": []
  }
 ],
 "metadata": {
  "kernelspec": {
   "display_name": "Python 3",
   "language": "python",
   "name": "python3"
  },
  "language_info": {
   "codemirror_mode": {
    "name": "ipython",
    "version": 3
   },
   "file_extension": ".py",
   "mimetype": "text/x-python",
   "name": "python",
   "nbconvert_exporter": "python",
   "pygments_lexer": "ipython3",
   "version": "3.6.6"
  }
 },
 "nbformat": 4,
 "nbformat_minor": 2
}

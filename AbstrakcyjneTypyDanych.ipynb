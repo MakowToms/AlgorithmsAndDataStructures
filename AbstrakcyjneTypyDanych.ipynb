{
 "cells": [
  {
   "cell_type": "markdown",
   "metadata": {},
   "source": [
    "# Abstrakcyjne typy danych\n",
    "## Stos\n",
    "### Operacje:\n",
    "- push (dodawanie nowego elemntu na górę)\n",
    "- pop (zdejmowanie najnowszego elementu)"
   ]
  },
  {
   "cell_type": "code",
   "execution_count": 37,
   "metadata": {},
   "outputs": [],
   "source": [
    "class Stack:\n",
    "    '''\n",
    "    Head wskazuje na najnowszy element\n",
    "    Każdy node wskazuje na poprzedni\n",
    "    Najstarszy element wskazuje na nulla\n",
    "    '''\n",
    "    class Node:\n",
    "        def __init__(self, elem, prev):\n",
    "            self.element = elem\n",
    "            self.previous = prev\n",
    "    \n",
    "    def __init__(self):\n",
    "        self.head = None\n",
    "        \n",
    "    def push(self,elem):\n",
    "        if self.isEmpty():\n",
    "            new = Stack.Node(elem, None)\n",
    "            self.head = new\n",
    "        else:\n",
    "            new = Stack.Node(elem, self.head)\n",
    "            self.head = new\n",
    "            \n",
    "    def pop(self):\n",
    "        if self.isEmpty():\n",
    "            return None\n",
    "        else:\n",
    "            to_ret = self.head.element\n",
    "            self.head = self.head.previous\n",
    "            return to_ret\n",
    "        \n",
    "    def isEmpty(self):\n",
    "        if (self.head == None):\n",
    "            return True"
   ]
  },
  {
   "cell_type": "code",
   "execution_count": 38,
   "metadata": {
    "scrolled": true
   },
   "outputs": [
    {
     "name": "stdout",
     "output_type": "stream",
     "text": [
      "0\n",
      "2\n",
      "4\n",
      "6\n",
      "8\n",
      "And more\n",
      "9\n",
      "7\n",
      "5\n",
      "3\n",
      "1\n",
      "None\n"
     ]
    }
   ],
   "source": [
    "stack = Stack()\n",
    "for i in range(10):\n",
    "    stack.push(i)\n",
    "    if i%2 ==0:\n",
    "        print(stack.pop())\n",
    "print('And more')\n",
    "for i in range(6):\n",
    "    print(stack.pop())"
   ]
  },
  {
   "cell_type": "markdown",
   "metadata": {},
   "source": [
    "## Kolejka\n",
    "### Operacje:\n",
    "- put (wstawianie elementu na koniec kolejki)\n",
    "- get (pobieranie najstarszego elementu z początku kolejki)"
   ]
  },
  {
   "cell_type": "code",
   "execution_count": 32,
   "metadata": {},
   "outputs": [],
   "source": [
    "class Queue:\n",
    "    '''\n",
    "    Head wskazuje na najstarszy element(początek kolejki)\n",
    "    Każdy node wskazuje na następny element w kolejce\n",
    "    Referencja na ostatni element\n",
    "    '''\n",
    "    class Node:\n",
    "        def __init__(self, elem, foll):\n",
    "            self.element = elem\n",
    "            self.following = foll\n",
    "    \n",
    "    def __init__(self):\n",
    "        self.head = None\n",
    "        self.last = None\n",
    "    \n",
    "    def isEmpty(self):\n",
    "        if self.head == None:\n",
    "            return True\n",
    "    \n",
    "    def put(self,elem):\n",
    "        if self.isEmpty():\n",
    "            self.head = Queue.Node(elem, None)\n",
    "            self.last = self.head\n",
    "        else:\n",
    "            new = Queue.Node(elem, None)\n",
    "            self.last.following = new\n",
    "            self.last = new\n",
    "            \n",
    "    def get(self):\n",
    "        if self.isEmpty():\n",
    "            return None\n",
    "        else:\n",
    "            to_ret = self.head.element\n",
    "            self.head = self.head.following\n",
    "            return to_ret"
   ]
  },
  {
   "cell_type": "code",
   "execution_count": 35,
   "metadata": {},
   "outputs": [
    {
     "name": "stdout",
     "output_type": "stream",
     "text": [
      "0\n",
      "1\n",
      "2\n",
      "3\n",
      "4\n",
      "And more\n",
      "5\n",
      "6\n",
      "7\n",
      "8\n",
      "9\n",
      "None\n"
     ]
    }
   ],
   "source": [
    "queue = Queue()\n",
    "for i in range(10):\n",
    "    queue.put(i)\n",
    "    if i%2 == 0:\n",
    "        print(queue.get())\n",
    "print('And more')\n",
    "for i in range(6):\n",
    "    print(queue.get())"
   ]
  },
  {
   "cell_type": "code",
   "execution_count": null,
   "metadata": {},
   "outputs": [],
   "source": []
  }
 ],
 "metadata": {
  "kernelspec": {
   "display_name": "Python 3",
   "language": "python",
   "name": "python3"
  },
  "language_info": {
   "codemirror_mode": {
    "name": "ipython",
    "version": 3
   },
   "file_extension": ".py",
   "mimetype": "text/x-python",
   "name": "python",
   "nbconvert_exporter": "python",
   "pygments_lexer": "ipython3",
   "version": "3.6.6"
  }
 },
 "nbformat": 4,
 "nbformat_minor": 2
}

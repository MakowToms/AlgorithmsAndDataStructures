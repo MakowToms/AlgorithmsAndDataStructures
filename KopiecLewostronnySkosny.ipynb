{
 "cells": [
  {
   "cell_type": "markdown",
   "metadata": {},
   "source": [
    "# Kolejki priorytetowe - kopce złączalne\n",
    "## Kopiec lewostronny\n",
    "### Operacje:\n",
    "- union (łączenie 2 kopców)\n",
    "- insert (dodawanie nowego elementu)\n",
    "- max (pobieranie maksymalnego elementu)\n",
    "- deleteMax (pobieranie i usuwanie maksymalnego elementu)\n",
    "## Kopiec skośny\n",
    "Operacje takie same, nie ma nlp oraz po powrocie z rekurencji zamiana jest zawsze (implementacja jako komentarze co usunąć)"
   ]
  },
  {
   "cell_type": "code",
   "execution_count": 30,
   "metadata": {},
   "outputs": [],
   "source": [
    "class Node:\n",
    "    def __init__(self,val,prior):\n",
    "        self.value = val\n",
    "        self.priority = prior\n",
    "        self.nlp = 0 #nie ma w kopcu skośnym\n",
    "        self.left = None\n",
    "        self.right = None\n",
    "\n",
    "def Nlp(node): #niepotrzebne w kopcu skośnym\n",
    "    if node == None:\n",
    "        return -1\n",
    "    else:\n",
    "        return node.nlp\n",
    "\n",
    "def Union(lh1,lh2):\n",
    "    if lh1 == None:\n",
    "        return lh2\n",
    "    if lh2 == None:\n",
    "        return lh1\n",
    "    if not lh1.priority >= lh2.priority:\n",
    "        lh1,lh2 = lh2,lh1\n",
    "    lh1.right = Union(lh1.right,lh2)\n",
    "\n",
    "    #powrót z rekurencji - uaktualnianie nlp\n",
    "    if not Nlp(lh1.left) >= Nlp(lh1.right): #brak warunku w kopcu skośnym - zamiana zawsze\n",
    "        lh1.left,lh1.right = lh1.right,lh1.left\n",
    "    lh1.nlp = Nlp(lh1.right) + 1 #nie ma takiej potrzeby w kopcu skośnym\n",
    "    return lh1\n",
    "\n",
    "def Insert(lh,val,prior):\n",
    "     return Union(lh,Node(val,prior))\n",
    "\n",
    "def DeleteMax(lh):\n",
    "    return lh.value,Union(lh.left,lh.right)\n",
    "    \n",
    "def Repr(lh,i=0):\n",
    "    if lh == None:\n",
    "        return\n",
    "    print(i,lh.priority,lh.value)\n",
    "    print('\\n Left: ')\n",
    "    Repr(lh.left, i+1)\n",
    "    print('\\n Right: ')\n",
    "    Repr(lh.right, i+1)"
   ]
  },
  {
   "cell_type": "code",
   "execution_count": 32,
   "metadata": {},
   "outputs": [
    {
     "name": "stdout",
     "output_type": "stream",
     "text": [
      "8\n",
      "9\n",
      "3\n",
      "7\n",
      "0 9 4\n",
      "\n",
      " Left: \n",
      "1 9 1\n",
      "\n",
      " Left: \n",
      "2 2 0\n",
      "\n",
      " Left: \n",
      "\n",
      " Right: \n",
      "\n",
      " Right: \n",
      "2 3 2\n",
      "\n",
      " Left: \n",
      "3 2 6\n",
      "\n",
      " Left: \n",
      "\n",
      " Right: \n",
      "\n",
      " Right: \n",
      "\n",
      " Right: \n",
      "1 4 5\n",
      "\n",
      " Left: \n",
      "\n",
      " Right: \n"
     ]
    }
   ],
   "source": [
    "import random\n",
    "random.seed(123)\n",
    "heap = None\n",
    "for i in range(10):\n",
    "    heap = Insert(heap,i,random.randint(1,20))\n",
    "m, heap = DeleteMax(heap)\n",
    "print(m)\n",
    "m, heap = DeleteMax(heap)\n",
    "print(m)\n",
    "m, heap = DeleteMax(heap)\n",
    "print(m)\n",
    "m, heap = DeleteMax(heap)\n",
    "print(m)\n",
    "Repr(heap)"
   ]
  },
  {
   "cell_type": "code",
   "execution_count": null,
   "metadata": {},
   "outputs": [],
   "source": []
  }
 ],
 "metadata": {
  "kernelspec": {
   "display_name": "Python 3",
   "language": "python",
   "name": "python3"
  },
  "language_info": {
   "codemirror_mode": {
    "name": "ipython",
    "version": 3
   },
   "file_extension": ".py",
   "mimetype": "text/x-python",
   "name": "python",
   "nbconvert_exporter": "python",
   "pygments_lexer": "ipython3",
   "version": "3.6.6"
  }
 },
 "nbformat": 4,
 "nbformat_minor": 2
}

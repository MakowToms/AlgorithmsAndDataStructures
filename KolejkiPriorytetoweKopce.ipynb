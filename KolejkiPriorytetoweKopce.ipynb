{
 "cells": [
  {
   "cell_type": "markdown",
   "metadata": {},
   "source": [
    "# Kolejki priorytetowe - kopce\n",
    "## Kopiec\n",
    "### Operacje:\n",
    "- insert (dodawanie nowego elementu)\n",
    "- max (pobieranie maksymalnego elementu)\n",
    "- deleteMax (pobieranie i usuwanie maksymalnego elementu)\n",
    "### Operacje pomocnicze:\n",
    "- downHeap - poprawianie kopca w dół\n",
    "- upHeap - poprawianie kopca w górę\n",
    "\n",
    "### To do:\n",
    "- search(v) (szukanie elementu o zadanym priorytecie v)\n",
    "- delete(i) (usuwanie elementu o priorytecie indeksie i)\n",
    "- replace(i,v) (wstawienie wartości v w pole o indeksie i)\n",
    "- replaceElements(i,j) (zamiana elemntów o indeksach i i j)\n",
    "- tworzenie kopca na podstawie listy elementów od dołu i od góry"
   ]
  },
  {
   "cell_type": "code",
   "execution_count": 22,
   "metadata": {},
   "outputs": [],
   "source": [
    "import math\n",
    "class Heap:\n",
    "    def __init__(self):\n",
    "        self.list = [math.inf]\n",
    "    \n",
    "    def upHeap(self,n):\n",
    "        if self.list[n] > self.list[n//2]:\n",
    "            self.list[n],self.list[n//2] = self.list[n//2],self.list[n]\n",
    "            self.upHeap(n//2)\n",
    "    \n",
    "    def insert(self,val):\n",
    "        self.list.append(val)\n",
    "        self.upHeap(len(self.list)-1)\n",
    "        \n",
    "    def downHeap(self,n):\n",
    "        if len(self.list)-1 < 2*n:\n",
    "            return\n",
    "        if len(self.list)-1 == 2*n:\n",
    "            if self.list[n] < self.list[2*n]:\n",
    "                self.list[n],self.list[2*n] = self.list[2*n],self.list[n]\n",
    "            return\n",
    "        k = 2*n\n",
    "        if self.list[2*n] < self.list[2*n+1]:\n",
    "            k = 2*n + 1\n",
    "        if self.list[k] > self.list[n]:\n",
    "            self.list[n],self.list[k] = self.list[k],self.list[n]\n",
    "            self.downHeap(k)\n",
    "        else:\n",
    "            return\n",
    "    \n",
    "    def maxP(self):\n",
    "        if len(self.list) == 1:\n",
    "            return None\n",
    "        return self.list[1]\n",
    "    \n",
    "    def deleteMax(self):\n",
    "        if len(self.list) == 1:\n",
    "            return None\n",
    "        to_ret = self.list[1]\n",
    "        if len(self.list) == 2:\n",
    "            self.list.pop()\n",
    "            return to_ret\n",
    "        self.list[1] = self.list.pop()\n",
    "        self.downHeap(1)\n",
    "        return to_ret"
   ]
  },
  {
   "cell_type": "code",
   "execution_count": 24,
   "metadata": {
    "scrolled": true
   },
   "outputs": [
    {
     "name": "stdout",
     "output_type": "stream",
     "text": [
      "20\n",
      "18\n",
      "16\n",
      "12\n",
      "11\n",
      "9\n",
      "8\n",
      "2\n",
      "2\n",
      "1\n",
      "None\n"
     ]
    }
   ],
   "source": [
    "import random\n",
    "heap = Heap()\n",
    "for i in range(10):\n",
    "    heap.insert(random.randint(1,20))\n",
    "    \n",
    "for i in range(11):\n",
    "    print(heap.deleteMax())"
   ]
  },
  {
   "cell_type": "markdown",
   "metadata": {},
   "source": [
    "## Dwukopiec \n",
    "### Operacje:\n",
    "- insert (dodawanie nowego elementu)\n",
    "- max (pobieranie maksymalnego elementu)\n",
    "- deleteMax (pobieranie i usuwanie maksymalnego elementu)\n",
    "- search (szukanie elementu o zadanym priorytecie)\n",
    "### Operacje pomocnicze:\n",
    "- downHeap (poprawianie kopca w dół)\n",
    "- upHeap (poprawianie kopca w górę)"
   ]
  },
  {
   "cell_type": "code",
   "execution_count": null,
   "metadata": {},
   "outputs": [],
   "source": [
    "class Beap:\n",
    "    def __init__(self):\n",
    "        self.list = [Inf]\n",
    "        \n",
    "    def downHeap(self,i,j):\n",
    "        n = j*(j+1)/2+i\n",
    "        if n + j + 1 > len(self.list) - 1:\n",
    "            return\n",
    "        if n + j + 1 == len(self.list) - 1:\n",
    "            if self.list[n] < self.list[n+j+1]\n",
    "            \n",
    "    #TO DO!!"
   ]
  }
 ],
 "metadata": {
  "kernelspec": {
   "display_name": "Python 3",
   "language": "python",
   "name": "python3"
  },
  "language_info": {
   "codemirror_mode": {
    "name": "ipython",
    "version": 3
   },
   "file_extension": ".py",
   "mimetype": "text/x-python",
   "name": "python",
   "nbconvert_exporter": "python",
   "pygments_lexer": "ipython3",
   "version": "3.6.6"
  }
 },
 "nbformat": 4,
 "nbformat_minor": 2
}
